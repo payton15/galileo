{
 "cells": [
  {
   "cell_type": "code",
   "execution_count": 11,
   "id": "ad38fe32-d34e-4ad0-9ad1-a114dc76eb1f",
   "metadata": {},
   "outputs": [],
   "source": [
    "using SPICE,CALCEPH\n",
    "\n",
    "using Downloads: download\n"
   ]
  },
  {
   "cell_type": "code",
   "execution_count": 2,
   "id": "7d9c06a2-3c58-40f6-849d-1f865bcc3b45",
   "metadata": {},
   "outputs": [
    {
     "name": "stdout",
     "output_type": "stream",
     "text": [
      "\u001b[32m\u001b[1m      Status\u001b[22m\u001b[39m `C:\\Users\\pblov\\.julia\\environments\\v1.6\\Project.toml`\n",
      " \u001b[90m [1537fe66] \u001b[39mCALCEPH v1.2.1\n",
      " \u001b[90m [8f4d0f93] \u001b[39mConda v1.10.2\n",
      " \u001b[90m [7073ff75] \u001b[39mIJulia v1.26.0\n",
      " \u001b[90m [42fd0dbc] \u001b[39mIterativeSolvers v0.9.4\n",
      " \u001b[90m [438e738f] \u001b[39mPyCall v1.96.4\n",
      " \u001b[90m [d330b81b] \u001b[39mPyPlot v2.11.6\n",
      " \u001b[90m [5bab7191] \u001b[39mSPICE v0.2.4\n",
      " \u001b[90m [d84f081e] \u001b[39mTTVFaster v0.2.1\n",
      " \u001b[90m [8bb1440f] \u001b[39mDelimitedFiles\n",
      " \u001b[90m [37e2e46d] \u001b[39mLinearAlgebra\n",
      " \u001b[90m [a63ad114] \u001b[39mMmap\n",
      " \u001b[90m [9a3f8284] \u001b[39mRandom\n",
      " \u001b[90m [10745b16] \u001b[39mStatistics\n"
     ]
    }
   ],
   "source": [
    "import Pkg;Pkg.status()"
   ]
  },
  {
   "cell_type": "code",
   "execution_count": 16,
   "id": "a743f500-a932-4bd4-a091-ad0d96cb57ff",
   "metadata": {},
   "outputs": [
    {
     "data": {
      "text/plain": [
       "\"https://naif.jpl.nasa.gov/pub/naif/generic_kernels/spk/satellites/jup365.bsp\""
      ]
     },
     "execution_count": 16,
     "metadata": {},
     "output_type": "execute_result"
    }
   ],
   "source": [
    "const SPK = \"https://naif.jpl.nasa.gov/pub/naif/generic_kernels/spk/satellites/jup365.bsp\""
   ]
  },
  {
   "cell_type": "code",
   "execution_count": 18,
   "id": "fa9f64ee-d3e8-4fb3-9e21-39bc8c0e8b70",
   "metadata": {},
   "outputs": [
    {
     "data": {
      "text/plain": [
       "\"jup365.bsp\""
      ]
     },
     "execution_count": 18,
     "metadata": {},
     "output_type": "execute_result"
    }
   ],
   "source": [
    "download(SPK, \"jup365.bsp\")"
   ]
  },
  {
   "cell_type": "code",
   "execution_count": null,
   "id": "6cfdeac7-f54d-46e3-bf5e-ef50a035d69e",
   "metadata": {},
   "outputs": [],
   "source": [
    "Ephem(\"jup365.bsp\")"
   ]
  },
  {
   "cell_type": "code",
   "execution_count": 6,
   "id": "6e150336-e64c-4b11-b47c-2892230820b2",
   "metadata": {},
   "outputs": [],
   "source": [
    "using TTVFaster"
   ]
  },
  {
   "cell_type": "code",
   "execution_count": 7,
   "id": "88f28a56-ec5b-4efc-a618-95f3665fd367",
   "metadata": {},
   "outputs": [
    {
     "data": {
      "text/html": [
       "# 1 method for type constructor:<ul><li> Planet_plane_hk(mass_ratio::<b>T</b>, period::<b>T</b>, trans0::<b>T</b>, ecosw::<b>T</b>, esinw::<b>T</b>)<i> where T<:Real</i> in TTVFaster at <a href=\"file://C:/Users/pblov/.julia/packages/TTVFaster/3joS1/src/compute_ttv.jl\" target=\"_blank\">C:\\Users\\pblov\\.julia\\packages\\TTVFaster\\3joS1\\src\\compute_ttv.jl:17</a></li> </ul>"
      ],
      "text/plain": [
       "# 1 method for type constructor:\n",
       "[1] Planet_plane_hk(mass_ratio::T, period::T, trans0::T, ecosw::T, esinw::T) where T<:Real in TTVFaster at C:\\Users\\pblov\\.julia\\packages\\TTVFaster\\3joS1\\src\\compute_ttv.jl:17"
      ]
     },
     "execution_count": 7,
     "metadata": {},
     "output_type": "execute_result"
    }
   ],
   "source": [
    "methods(TTVFaster.Planet_plane_hk)"
   ]
  },
  {
   "cell_type": "code",
   "execution_count": null,
   "id": "4eabfdf8-0160-4e69-be7a-cbb30504a0b1",
   "metadata": {},
   "outputs": [],
   "source": [
    "suin"
   ]
  }
 ],
 "metadata": {
  "kernelspec": {
   "display_name": "Julia 1.6.7",
   "language": "julia",
   "name": "julia-1.6"
  },
  "language_info": {
   "file_extension": ".jl",
   "mimetype": "application/julia",
   "name": "julia",
   "version": "1.6.7"
  }
 },
 "nbformat": 4,
 "nbformat_minor": 5
}
